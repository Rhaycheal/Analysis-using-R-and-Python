{
 "cells": [
  {
   "cell_type": "markdown",
   "metadata": {},
   "source": [
    "### ELECTRIC VEHICLE POPULATION ANALYSIS"
   ]
  },
  {
   "cell_type": "code",
   "execution_count": 53,
   "metadata": {},
   "outputs": [
    {
     "data": {
      "text/html": [
       "<div>\n",
       "<style scoped>\n",
       "    .dataframe tbody tr th:only-of-type {\n",
       "        vertical-align: middle;\n",
       "    }\n",
       "\n",
       "    .dataframe tbody tr th {\n",
       "        vertical-align: top;\n",
       "    }\n",
       "\n",
       "    .dataframe thead th {\n",
       "        text-align: right;\n",
       "    }\n",
       "</style>\n",
       "<table border=\"1\" class=\"dataframe\">\n",
       "  <thead>\n",
       "    <tr style=\"text-align: right;\">\n",
       "      <th></th>\n",
       "      <th>VIN (1-10)</th>\n",
       "      <th>County</th>\n",
       "      <th>City</th>\n",
       "      <th>State</th>\n",
       "      <th>Postal Code</th>\n",
       "      <th>Model Year</th>\n",
       "      <th>Make</th>\n",
       "      <th>Model</th>\n",
       "      <th>Electric Vehicle Type</th>\n",
       "      <th>Clean Alternative Fuel Vehicle (CAFV) Eligibility</th>\n",
       "      <th>Electric Range</th>\n",
       "      <th>Base MSRP</th>\n",
       "      <th>Legislative District</th>\n",
       "      <th>DOL Vehicle ID</th>\n",
       "      <th>Vehicle Location</th>\n",
       "      <th>Electric Utility</th>\n",
       "      <th>2020 Census Tract</th>\n",
       "    </tr>\n",
       "  </thead>\n",
       "  <tbody>\n",
       "    <tr>\n",
       "      <th>0</th>\n",
       "      <td>5YJYGDEE1L</td>\n",
       "      <td>King</td>\n",
       "      <td>Seattle</td>\n",
       "      <td>WA</td>\n",
       "      <td>98122.0</td>\n",
       "      <td>2020</td>\n",
       "      <td>TESLA</td>\n",
       "      <td>MODEL Y</td>\n",
       "      <td>Battery Electric Vehicle (BEV)</td>\n",
       "      <td>Clean Alternative Fuel Vehicle Eligible</td>\n",
       "      <td>291</td>\n",
       "      <td>0</td>\n",
       "      <td>37.0</td>\n",
       "      <td>125701579</td>\n",
       "      <td>POINT (-122.30839 47.610365)</td>\n",
       "      <td>CITY OF SEATTLE - (WA)|CITY OF TACOMA - (WA)</td>\n",
       "      <td>5.303301e+10</td>\n",
       "    </tr>\n",
       "    <tr>\n",
       "      <th>1</th>\n",
       "      <td>7SAYGDEE9P</td>\n",
       "      <td>Snohomish</td>\n",
       "      <td>Bothell</td>\n",
       "      <td>WA</td>\n",
       "      <td>98021.0</td>\n",
       "      <td>2023</td>\n",
       "      <td>TESLA</td>\n",
       "      <td>MODEL Y</td>\n",
       "      <td>Battery Electric Vehicle (BEV)</td>\n",
       "      <td>Eligibility unknown as battery range has not b...</td>\n",
       "      <td>0</td>\n",
       "      <td>0</td>\n",
       "      <td>1.0</td>\n",
       "      <td>244285107</td>\n",
       "      <td>POINT (-122.179458 47.802589)</td>\n",
       "      <td>PUGET SOUND ENERGY INC</td>\n",
       "      <td>5.306105e+10</td>\n",
       "    </tr>\n",
       "    <tr>\n",
       "      <th>2</th>\n",
       "      <td>5YJSA1E4XK</td>\n",
       "      <td>King</td>\n",
       "      <td>Seattle</td>\n",
       "      <td>WA</td>\n",
       "      <td>98109.0</td>\n",
       "      <td>2019</td>\n",
       "      <td>TESLA</td>\n",
       "      <td>MODEL S</td>\n",
       "      <td>Battery Electric Vehicle (BEV)</td>\n",
       "      <td>Clean Alternative Fuel Vehicle Eligible</td>\n",
       "      <td>270</td>\n",
       "      <td>0</td>\n",
       "      <td>36.0</td>\n",
       "      <td>156773144</td>\n",
       "      <td>POINT (-122.34848 47.632405)</td>\n",
       "      <td>CITY OF SEATTLE - (WA)|CITY OF TACOMA - (WA)</td>\n",
       "      <td>5.303301e+10</td>\n",
       "    </tr>\n",
       "    <tr>\n",
       "      <th>3</th>\n",
       "      <td>5YJSA1E27G</td>\n",
       "      <td>King</td>\n",
       "      <td>Issaquah</td>\n",
       "      <td>WA</td>\n",
       "      <td>98027.0</td>\n",
       "      <td>2016</td>\n",
       "      <td>TESLA</td>\n",
       "      <td>MODEL S</td>\n",
       "      <td>Battery Electric Vehicle (BEV)</td>\n",
       "      <td>Clean Alternative Fuel Vehicle Eligible</td>\n",
       "      <td>210</td>\n",
       "      <td>0</td>\n",
       "      <td>5.0</td>\n",
       "      <td>165103011</td>\n",
       "      <td>POINT (-122.03646 47.534065)</td>\n",
       "      <td>PUGET SOUND ENERGY INC||CITY OF TACOMA - (WA)</td>\n",
       "      <td>5.303303e+10</td>\n",
       "    </tr>\n",
       "    <tr>\n",
       "      <th>4</th>\n",
       "      <td>5YJYGDEE5M</td>\n",
       "      <td>Kitsap</td>\n",
       "      <td>Suquamish</td>\n",
       "      <td>WA</td>\n",
       "      <td>98392.0</td>\n",
       "      <td>2021</td>\n",
       "      <td>TESLA</td>\n",
       "      <td>MODEL Y</td>\n",
       "      <td>Battery Electric Vehicle (BEV)</td>\n",
       "      <td>Eligibility unknown as battery range has not b...</td>\n",
       "      <td>0</td>\n",
       "      <td>0</td>\n",
       "      <td>23.0</td>\n",
       "      <td>205138552</td>\n",
       "      <td>POINT (-122.55717 47.733415)</td>\n",
       "      <td>PUGET SOUND ENERGY INC</td>\n",
       "      <td>5.303594e+10</td>\n",
       "    </tr>\n",
       "  </tbody>\n",
       "</table>\n",
       "</div>"
      ],
      "text/plain": [
       "   VIN (1-10)     County       City State  Postal Code  Model Year   Make  \\\n",
       "0  5YJYGDEE1L       King    Seattle    WA      98122.0        2020  TESLA   \n",
       "1  7SAYGDEE9P  Snohomish    Bothell    WA      98021.0        2023  TESLA   \n",
       "2  5YJSA1E4XK       King    Seattle    WA      98109.0        2019  TESLA   \n",
       "3  5YJSA1E27G       King   Issaquah    WA      98027.0        2016  TESLA   \n",
       "4  5YJYGDEE5M     Kitsap  Suquamish    WA      98392.0        2021  TESLA   \n",
       "\n",
       "     Model           Electric Vehicle Type  \\\n",
       "0  MODEL Y  Battery Electric Vehicle (BEV)   \n",
       "1  MODEL Y  Battery Electric Vehicle (BEV)   \n",
       "2  MODEL S  Battery Electric Vehicle (BEV)   \n",
       "3  MODEL S  Battery Electric Vehicle (BEV)   \n",
       "4  MODEL Y  Battery Electric Vehicle (BEV)   \n",
       "\n",
       "   Clean Alternative Fuel Vehicle (CAFV) Eligibility  Electric Range  \\\n",
       "0            Clean Alternative Fuel Vehicle Eligible             291   \n",
       "1  Eligibility unknown as battery range has not b...               0   \n",
       "2            Clean Alternative Fuel Vehicle Eligible             270   \n",
       "3            Clean Alternative Fuel Vehicle Eligible             210   \n",
       "4  Eligibility unknown as battery range has not b...               0   \n",
       "\n",
       "   Base MSRP  Legislative District  DOL Vehicle ID  \\\n",
       "0          0                  37.0       125701579   \n",
       "1          0                   1.0       244285107   \n",
       "2          0                  36.0       156773144   \n",
       "3          0                   5.0       165103011   \n",
       "4          0                  23.0       205138552   \n",
       "\n",
       "                Vehicle Location  \\\n",
       "0   POINT (-122.30839 47.610365)   \n",
       "1  POINT (-122.179458 47.802589)   \n",
       "2   POINT (-122.34848 47.632405)   \n",
       "3   POINT (-122.03646 47.534065)   \n",
       "4   POINT (-122.55717 47.733415)   \n",
       "\n",
       "                                Electric Utility  2020 Census Tract  \n",
       "0   CITY OF SEATTLE - (WA)|CITY OF TACOMA - (WA)       5.303301e+10  \n",
       "1                         PUGET SOUND ENERGY INC       5.306105e+10  \n",
       "2   CITY OF SEATTLE - (WA)|CITY OF TACOMA - (WA)       5.303301e+10  \n",
       "3  PUGET SOUND ENERGY INC||CITY OF TACOMA - (WA)       5.303303e+10  \n",
       "4                         PUGET SOUND ENERGY INC       5.303594e+10  "
      ]
     },
     "execution_count": 53,
     "metadata": {},
     "output_type": "execute_result"
    }
   ],
   "source": [
    "import pandas as pd\n",
    "import numpy as np\n",
    "\n",
    "path = \"c:\\\\Users\\\\Dell\\\\Documents\"\n",
    "\n",
    "file_name = \"Electric_Vehicle_Population_Data.csv\"\n",
    "\n",
    "# Construct the full path to the file\n",
    "file_path = f\"{path}/{file_name}\"\n",
    "\n",
    "data = pd.read_csv(file_path, encoding = \"latin1\", delimiter = \",\")\n",
    "\n",
    "data.head()"
   ]
  },
  {
   "cell_type": "code",
   "execution_count": 54,
   "metadata": {},
   "outputs": [
    {
     "data": {
      "text/plain": [
       "Index(['VIN (1-10)', 'County', 'City', 'State', 'Postal Code', 'Model Year',\n",
       "       'Make', 'Model', 'Electric Vehicle Type',\n",
       "       'Clean Alternative Fuel Vehicle (CAFV) Eligibility', 'Electric Range',\n",
       "       'Base MSRP', 'Legislative District', 'DOL Vehicle ID',\n",
       "       'Vehicle Location', 'Electric Utility', '2020 Census Tract'],\n",
       "      dtype='object')"
      ]
     },
     "execution_count": 54,
     "metadata": {},
     "output_type": "execute_result"
    }
   ],
   "source": [
    "data.columns"
   ]
  },
  {
   "cell_type": "code",
   "execution_count": 55,
   "metadata": {},
   "outputs": [
    {
     "data": {
      "text/html": [
       "<div>\n",
       "<style scoped>\n",
       "    .dataframe tbody tr th:only-of-type {\n",
       "        vertical-align: middle;\n",
       "    }\n",
       "\n",
       "    .dataframe tbody tr th {\n",
       "        vertical-align: top;\n",
       "    }\n",
       "\n",
       "    .dataframe thead th {\n",
       "        text-align: right;\n",
       "    }\n",
       "</style>\n",
       "<table border=\"1\" class=\"dataframe\">\n",
       "  <thead>\n",
       "    <tr style=\"text-align: right;\">\n",
       "      <th></th>\n",
       "      <th>State</th>\n",
       "      <th>Electric Vehicle Type</th>\n",
       "    </tr>\n",
       "  </thead>\n",
       "  <tbody>\n",
       "    <tr>\n",
       "      <th>0</th>\n",
       "      <td>WA</td>\n",
       "      <td>Battery Electric Vehicle (BEV)</td>\n",
       "    </tr>\n",
       "    <tr>\n",
       "      <th>1</th>\n",
       "      <td>WA</td>\n",
       "      <td>Battery Electric Vehicle (BEV)</td>\n",
       "    </tr>\n",
       "    <tr>\n",
       "      <th>2</th>\n",
       "      <td>WA</td>\n",
       "      <td>Battery Electric Vehicle (BEV)</td>\n",
       "    </tr>\n",
       "    <tr>\n",
       "      <th>3</th>\n",
       "      <td>WA</td>\n",
       "      <td>Battery Electric Vehicle (BEV)</td>\n",
       "    </tr>\n",
       "    <tr>\n",
       "      <th>4</th>\n",
       "      <td>WA</td>\n",
       "      <td>Battery Electric Vehicle (BEV)</td>\n",
       "    </tr>\n",
       "  </tbody>\n",
       "</table>\n",
       "</div>"
      ],
      "text/plain": [
       "  State           Electric Vehicle Type\n",
       "0    WA  Battery Electric Vehicle (BEV)\n",
       "1    WA  Battery Electric Vehicle (BEV)\n",
       "2    WA  Battery Electric Vehicle (BEV)\n",
       "3    WA  Battery Electric Vehicle (BEV)\n",
       "4    WA  Battery Electric Vehicle (BEV)"
      ]
     },
     "execution_count": 55,
     "metadata": {},
     "output_type": "execute_result"
    }
   ],
   "source": [
    "data2 = data[['State', 'Electric Vehicle Type']]\n",
    "data2.head()"
   ]
  },
  {
   "cell_type": "code",
   "execution_count": 56,
   "metadata": {},
   "outputs": [
    {
     "data": {
      "text/plain": [
       "State                    46\n",
       "Electric Vehicle Type     2\n",
       "dtype: int64"
      ]
     },
     "execution_count": 56,
     "metadata": {},
     "output_type": "execute_result"
    }
   ],
   "source": [
    "data2.nunique()"
   ]
  },
  {
   "cell_type": "code",
   "execution_count": 57,
   "metadata": {},
   "outputs": [
    {
     "name": "stdout",
     "output_type": "stream",
     "text": [
      "   State                   Electric Vehicle Type   Count\n",
      "0     AE          Battery Electric Vehicle (BEV)       1\n",
      "1     AK          Battery Electric Vehicle (BEV)       1\n",
      "2     AL          Battery Electric Vehicle (BEV)       5\n",
      "3     AL  Plug-in Hybrid Electric Vehicle (PHEV)       1\n",
      "4     AP          Battery Electric Vehicle (BEV)       1\n",
      "..   ...                                     ...     ...\n",
      "71    VA          Battery Electric Vehicle (BEV)      29\n",
      "72    VA  Plug-in Hybrid Electric Vehicle (PHEV)      17\n",
      "73    WA          Battery Electric Vehicle (BEV)  138948\n",
      "74    WA  Plug-in Hybrid Electric Vehicle (PHEV)   38529\n",
      "75    WY          Battery Electric Vehicle (BEV)       2\n",
      "\n",
      "[76 rows x 3 columns]\n"
     ]
    }
   ],
   "source": [
    "# Grouping data2 by 'State' and 'Electric Vehicle Type', and then counting the occurrences\n",
    "subset = data2.groupby(['State', 'Electric Vehicle Type']).size().reset_index(name='Count')\n",
    "\n",
    "# Displaying the subset\n",
    "print(subset)\n"
   ]
  },
  {
   "cell_type": "code",
   "execution_count": 58,
   "metadata": {},
   "outputs": [
    {
     "name": "stdout",
     "output_type": "stream",
     "text": [
      "<class 'pandas.core.frame.DataFrame'>\n",
      "RangeIndex: 76 entries, 0 to 75\n",
      "Data columns (total 3 columns):\n",
      " #   Column                 Non-Null Count  Dtype \n",
      "---  ------                 --------------  ----- \n",
      " 0   State                  76 non-null     object\n",
      " 1   Electric Vehicle Type  76 non-null     object\n",
      " 2   Count                  76 non-null     int64 \n",
      "dtypes: int64(1), object(2)\n",
      "memory usage: 1.9+ KB\n"
     ]
    }
   ],
   "source": [
    "subset.info()"
   ]
  },
  {
   "cell_type": "code",
   "execution_count": 59,
   "metadata": {},
   "outputs": [
    {
     "name": "stdout",
     "output_type": "stream",
     "text": [
      "   State  Battery Electric Vehicle (BEV)  \\\n",
      "0     AE                             1.0   \n",
      "1     AK                             1.0   \n",
      "2     AL                             5.0   \n",
      "3     AP                             1.0   \n",
      "4     AR                             2.0   \n",
      "5     AZ                             8.0   \n",
      "6     BC                             3.0   \n",
      "7     CA                            70.0   \n",
      "8     CO                             9.0   \n",
      "9     CT                             2.0   \n",
      "10    DC                             3.0   \n",
      "11    DE                             1.0   \n",
      "12    FL                             7.0   \n",
      "13    GA                             4.0   \n",
      "14    HI                             6.0   \n",
      "15    IA                             1.0   \n",
      "16    ID                             3.0   \n",
      "17    IL                            12.0   \n",
      "18    IN                             1.0   \n",
      "19    KS                             1.0   \n",
      "20    KY                             2.0   \n",
      "21    LA                             3.0   \n",
      "22    MA                             4.0   \n",
      "23    MD                            18.0   \n",
      "24    MI                             0.0   \n",
      "25    MN                             1.0   \n",
      "26    MO                             5.0   \n",
      "27    NC                             9.0   \n",
      "28    NE                             1.0   \n",
      "29    NH                             1.0   \n",
      "30    NJ                             4.0   \n",
      "31    NM                             0.0   \n",
      "32    NV                             6.0   \n",
      "33    NY                             5.0   \n",
      "34    OH                             3.0   \n",
      "35    OK                             1.0   \n",
      "36    OR                             2.0   \n",
      "37    PA                             3.0   \n",
      "38    RI                             1.0   \n",
      "39    SC                             3.0   \n",
      "40    TN                             1.0   \n",
      "41    TX                            15.0   \n",
      "42    UT                             2.0   \n",
      "43    VA                            29.0   \n",
      "44    WA                        138948.0   \n",
      "45    WY                             2.0   \n",
      "\n",
      "    Plug-in Hybrid Electric Vehicle (PHEV)  \n",
      "0                                      0.0  \n",
      "1                                      0.0  \n",
      "2                                      1.0  \n",
      "3                                      0.0  \n",
      "4                                      0.0  \n",
      "5                                      2.0  \n",
      "6                                      0.0  \n",
      "7                                     31.0  \n",
      "8                                      3.0  \n",
      "9                                      4.0  \n",
      "10                                     0.0  \n",
      "11                                     0.0  \n",
      "12                                     3.0  \n",
      "13                                     2.0  \n",
      "14                                     3.0  \n",
      "15                                     0.0  \n",
      "16                                     0.0  \n",
      "17                                     3.0  \n",
      "18                                     2.0  \n",
      "19                                     1.0  \n",
      "20                                     1.0  \n",
      "21                                     1.0  \n",
      "22                                     1.0  \n",
      "23                                    13.0  \n",
      "24                                     2.0  \n",
      "25                                     1.0  \n",
      "26                                     0.0  \n",
      "27                                     7.0  \n",
      "28                                     1.0  \n",
      "29                                     0.0  \n",
      "30                                     4.0  \n",
      "31                                     1.0  \n",
      "32                                     2.0  \n",
      "33                                     2.0  \n",
      "34                                     1.0  \n",
      "35                                     0.0  \n",
      "36                                     3.0  \n",
      "37                                     1.0  \n",
      "38                                     1.0  \n",
      "39                                     4.0  \n",
      "40                                     0.0  \n",
      "41                                     8.0  \n",
      "42                                     1.0  \n",
      "43                                    17.0  \n",
      "44                                 38529.0  \n",
      "45                                     0.0  \n"
     ]
    }
   ],
   "source": [
    "# Pivot the DataFrame to split \"Electric Vehicle Type\" into two new columns\n",
    "subset_pivot = subset.pivot(index='State', columns='Electric Vehicle Type', values='Count').reset_index()\n",
    "\n",
    "# Fill any NaN values with 0\n",
    "subset_pivot = subset_pivot.fillna(0)\n",
    "\n",
    "# Rename the columns\n",
    "subset_pivot.columns.name = None  # Remove the name of the columns axis\n",
    "subset_pivot.columns = ['State', 'Battery Electric Vehicle (BEV)', 'Plug-in Hybrid Electric Vehicle (PHEV)']\n",
    "\n",
    "# Display the subset with the new columns\n",
    "print(subset_pivot)\n"
   ]
  },
  {
   "cell_type": "code",
   "execution_count": 60,
   "metadata": {},
   "outputs": [
    {
     "data": {
      "text/html": [
       "<div>\n",
       "<style scoped>\n",
       "    .dataframe tbody tr th:only-of-type {\n",
       "        vertical-align: middle;\n",
       "    }\n",
       "\n",
       "    .dataframe tbody tr th {\n",
       "        vertical-align: top;\n",
       "    }\n",
       "\n",
       "    .dataframe thead th {\n",
       "        text-align: right;\n",
       "    }\n",
       "</style>\n",
       "<table border=\"1\" class=\"dataframe\">\n",
       "  <thead>\n",
       "    <tr style=\"text-align: right;\">\n",
       "      <th></th>\n",
       "      <th>State</th>\n",
       "      <th>Battery Electric Vehicle (BEV)</th>\n",
       "      <th>Plug-in Hybrid Electric Vehicle (PHEV)</th>\n",
       "    </tr>\n",
       "  </thead>\n",
       "  <tbody>\n",
       "    <tr>\n",
       "      <th>0</th>\n",
       "      <td>AE</td>\n",
       "      <td>1.0</td>\n",
       "      <td>0.0</td>\n",
       "    </tr>\n",
       "    <tr>\n",
       "      <th>1</th>\n",
       "      <td>AK</td>\n",
       "      <td>1.0</td>\n",
       "      <td>0.0</td>\n",
       "    </tr>\n",
       "    <tr>\n",
       "      <th>2</th>\n",
       "      <td>AL</td>\n",
       "      <td>5.0</td>\n",
       "      <td>1.0</td>\n",
       "    </tr>\n",
       "    <tr>\n",
       "      <th>3</th>\n",
       "      <td>AP</td>\n",
       "      <td>1.0</td>\n",
       "      <td>0.0</td>\n",
       "    </tr>\n",
       "    <tr>\n",
       "      <th>4</th>\n",
       "      <td>AR</td>\n",
       "      <td>2.0</td>\n",
       "      <td>0.0</td>\n",
       "    </tr>\n",
       "  </tbody>\n",
       "</table>\n",
       "</div>"
      ],
      "text/plain": [
       "  State  Battery Electric Vehicle (BEV)  \\\n",
       "0    AE                             1.0   \n",
       "1    AK                             1.0   \n",
       "2    AL                             5.0   \n",
       "3    AP                             1.0   \n",
       "4    AR                             2.0   \n",
       "\n",
       "   Plug-in Hybrid Electric Vehicle (PHEV)  \n",
       "0                                     0.0  \n",
       "1                                     0.0  \n",
       "2                                     1.0  \n",
       "3                                     0.0  \n",
       "4                                     0.0  "
      ]
     },
     "execution_count": 60,
     "metadata": {},
     "output_type": "execute_result"
    }
   ],
   "source": [
    "subset_pivot.head()"
   ]
  },
  {
   "cell_type": "code",
   "execution_count": 61,
   "metadata": {},
   "outputs": [],
   "source": [
    "# Change data type of 'Battery Electric Vehicle (BEV)' and 'Plug-in Hybrid Electric Vehicle (PHEV)' columns to int\n",
    "subset_pivot['Battery Electric Vehicle (BEV)'] = subset_pivot['Battery Electric Vehicle (BEV)'].astype(int)\n",
    "subset_pivot['Plug-in Hybrid Electric Vehicle (PHEV)'] = subset_pivot['Plug-in Hybrid Electric Vehicle (PHEV)'].astype(int)\n"
   ]
  },
  {
   "cell_type": "code",
   "execution_count": 62,
   "metadata": {},
   "outputs": [
    {
     "name": "stdout",
     "output_type": "stream",
     "text": [
      "<class 'pandas.core.frame.DataFrame'>\n",
      "RangeIndex: 46 entries, 0 to 45\n",
      "Data columns (total 3 columns):\n",
      " #   Column                                  Non-Null Count  Dtype \n",
      "---  ------                                  --------------  ----- \n",
      " 0   State                                   46 non-null     object\n",
      " 1   Battery Electric Vehicle (BEV)          46 non-null     int32 \n",
      " 2   Plug-in Hybrid Electric Vehicle (PHEV)  46 non-null     int32 \n",
      "dtypes: int32(2), object(1)\n",
      "memory usage: 868.0+ bytes\n"
     ]
    }
   ],
   "source": [
    "subset_pivot.info()"
   ]
  },
  {
   "cell_type": "code",
   "execution_count": 63,
   "metadata": {},
   "outputs": [
    {
     "name": "stdout",
     "output_type": "stream",
     "text": [
      "<class 'pandas.core.frame.DataFrame'>\n",
      "RangeIndex: 177866 entries, 0 to 177865\n",
      "Data columns (total 17 columns):\n",
      " #   Column                                             Non-Null Count   Dtype  \n",
      "---  ------                                             --------------   -----  \n",
      " 0   VIN (1-10)                                         177866 non-null  object \n",
      " 1   County                                             177861 non-null  object \n",
      " 2   City                                               177861 non-null  object \n",
      " 3   State                                              177866 non-null  object \n",
      " 4   Postal Code                                        177861 non-null  float64\n",
      " 5   Model Year                                         177866 non-null  int64  \n",
      " 6   Make                                               177866 non-null  object \n",
      " 7   Model                                              177866 non-null  object \n",
      " 8   Electric Vehicle Type                              177866 non-null  object \n",
      " 9   Clean Alternative Fuel Vehicle (CAFV) Eligibility  177866 non-null  object \n",
      " 10  Electric Range                                     177866 non-null  int64  \n",
      " 11  Base MSRP                                          177866 non-null  int64  \n",
      " 12  Legislative District                               177477 non-null  float64\n",
      " 13  DOL Vehicle ID                                     177866 non-null  int64  \n",
      " 14  Vehicle Location                                   177857 non-null  object \n",
      " 15  Electric Utility                                   177861 non-null  object \n",
      " 16  2020 Census Tract                                  177861 non-null  float64\n",
      "dtypes: float64(3), int64(4), object(10)\n",
      "memory usage: 23.1+ MB\n"
     ]
    }
   ],
   "source": [
    "data.info()"
   ]
  },
  {
   "cell_type": "code",
   "execution_count": 64,
   "metadata": {},
   "outputs": [
    {
     "data": {
      "text/plain": [
       "VIN (1-10)                                             0\n",
       "County                                                 5\n",
       "City                                                   5\n",
       "State                                                  0\n",
       "Postal Code                                            5\n",
       "Model Year                                             0\n",
       "Make                                                   0\n",
       "Model                                                  0\n",
       "Electric Vehicle Type                                  0\n",
       "Clean Alternative Fuel Vehicle (CAFV) Eligibility      0\n",
       "Electric Range                                         0\n",
       "Base MSRP                                              0\n",
       "Legislative District                                 389\n",
       "DOL Vehicle ID                                         0\n",
       "Vehicle Location                                       9\n",
       "Electric Utility                                       5\n",
       "2020 Census Tract                                      5\n",
       "dtype: int64"
      ]
     },
     "execution_count": 64,
     "metadata": {},
     "output_type": "execute_result"
    }
   ],
   "source": [
    "data.isnull().sum()"
   ]
  },
  {
   "cell_type": "code",
   "execution_count": 65,
   "metadata": {},
   "outputs": [
    {
     "data": {
      "text/plain": [
       "County\n",
       "King         92740\n",
       "Snohomish    21001\n",
       "Pierce       13782\n",
       "Clark        10416\n",
       "Thurston      6428\n",
       "             ...  \n",
       "Sarpy            1\n",
       "Suffolk          1\n",
       "Beaufort         1\n",
       "Meade            1\n",
       "Hardin           1\n",
       "Name: count, Length: 196, dtype: int64"
      ]
     },
     "execution_count": 65,
     "metadata": {},
     "output_type": "execute_result"
    }
   ],
   "source": [
    "data['County'].value_counts()"
   ]
  },
  {
   "cell_type": "code",
   "execution_count": 66,
   "metadata": {},
   "outputs": [
    {
     "data": {
      "text/plain": [
       "City\n",
       "Seattle          29447\n",
       "Bellevue          8931\n",
       "Redmond           6478\n",
       "Vancouver         6193\n",
       "Bothell           5863\n",
       "                 ...  \n",
       "Plymouth             1\n",
       "Tempe                1\n",
       "Chapel Hill          1\n",
       "Vista                1\n",
       "Elizabethtown        1\n",
       "Name: count, Length: 723, dtype: int64"
      ]
     },
     "execution_count": 66,
     "metadata": {},
     "output_type": "execute_result"
    }
   ],
   "source": [
    "data['City'].value_counts()"
   ]
  },
  {
   "cell_type": "markdown",
   "metadata": {},
   "source": [
    "#### Data Cleaning"
   ]
  },
  {
   "cell_type": "code",
   "execution_count": 67,
   "metadata": {},
   "outputs": [],
   "source": [
    "clean_data = data.copy()"
   ]
  },
  {
   "cell_type": "code",
   "execution_count": 68,
   "metadata": {},
   "outputs": [],
   "source": [
    "# Drop rows with null values in 'bathrooms' and 'bedrooms' columns\n",
    "clean_data = clean_data.dropna(subset=['County', 'City', 'Legislative District',\n",
    "                                          'Postal Code', 'Vehicle Location', 'Electric Utility', '2020 Census Tract'])"
   ]
  },
  {
   "cell_type": "code",
   "execution_count": 69,
   "metadata": {},
   "outputs": [
    {
     "data": {
      "text/plain": [
       "VIN (1-10)                                           0\n",
       "County                                               0\n",
       "City                                                 0\n",
       "State                                                0\n",
       "Postal Code                                          0\n",
       "Model Year                                           0\n",
       "Make                                                 0\n",
       "Model                                                0\n",
       "Electric Vehicle Type                                0\n",
       "Clean Alternative Fuel Vehicle (CAFV) Eligibility    0\n",
       "Electric Range                                       0\n",
       "Base MSRP                                            0\n",
       "Legislative District                                 0\n",
       "DOL Vehicle ID                                       0\n",
       "Vehicle Location                                     0\n",
       "Electric Utility                                     0\n",
       "2020 Census Tract                                    0\n",
       "dtype: int64"
      ]
     },
     "execution_count": 69,
     "metadata": {},
     "output_type": "execute_result"
    }
   ],
   "source": [
    "clean_data.isnull().sum()"
   ]
  },
  {
   "cell_type": "code",
   "execution_count": 70,
   "metadata": {},
   "outputs": [
    {
     "data": {
      "text/plain": [
       "Electric Vehicle Type\n",
       "Battery Electric Vehicle (BEV)            138947\n",
       "Plug-in Hybrid Electric Vehicle (PHEV)     38526\n",
       "Name: count, dtype: int64"
      ]
     },
     "execution_count": 70,
     "metadata": {},
     "output_type": "execute_result"
    }
   ],
   "source": [
    "clean_data['Electric Vehicle Type'].value_counts()"
   ]
  },
  {
   "cell_type": "code",
   "execution_count": 71,
   "metadata": {},
   "outputs": [
    {
     "data": {
      "text/plain": [
       "Make\n",
       "TESLA                   79471\n",
       "NISSAN                  13984\n",
       "CHEVROLET               13651\n",
       "FORD                     9177\n",
       "BMW                      7556\n",
       "KIA                      7423\n",
       "TOYOTA                   6254\n",
       "VOLKSWAGEN               4993\n",
       "JEEP                     4468\n",
       "HYUNDAI                  4398\n",
       "RIVIAN                   4307\n",
       "VOLVO                    4124\n",
       "AUDI                     3637\n",
       "CHRYSLER                 2976\n",
       "MERCEDES-BENZ            1588\n",
       "PORSCHE                  1137\n",
       "MITSUBISHI                957\n",
       "MINI                      898\n",
       "POLESTAR                  881\n",
       "HONDA                     831\n",
       "SUBARU                    830\n",
       "FIAT                      784\n",
       "DODGE                     568\n",
       "MAZDA                     476\n",
       "CADILLAC                  380\n",
       "LEXUS                     370\n",
       "SMART                     270\n",
       "LINCOLN                   266\n",
       "LUCID                     240\n",
       "JAGUAR                    232\n",
       "GENESIS                   181\n",
       "LAND ROVER                 55\n",
       "FISKER                     48\n",
       "ALFA ROMEO                 39\n",
       "AZURE DYNAMICS              8\n",
       "TH!NK                       5\n",
       "GMC                         3\n",
       "BENTLEY                     3\n",
       "WHEEGO ELECTRIC CARS        3\n",
       "ROLLS ROYCE                 1\n",
       "Name: count, dtype: int64"
      ]
     },
     "execution_count": 71,
     "metadata": {},
     "output_type": "execute_result"
    }
   ],
   "source": [
    "clean_data['Make'].value_counts()"
   ]
  },
  {
   "cell_type": "code",
   "execution_count": 72,
   "metadata": {},
   "outputs": [],
   "source": [
    "import matplotlib.pyplot as plt\n",
    "\n",
    "# Data\n",
    "vehicle_type_counts = clean_data['Electric Vehicle Type'].value_counts()\n",
    "make_counts = clean_data['Make'].value_counts().head(10)  # Top 10 makes"
   ]
  },
  {
   "cell_type": "code",
   "execution_count": 73,
   "metadata": {},
   "outputs": [
    {
     "data": {
      "image/png": "[encoded data removed]",
      "text/plain": [
       "<Figure size 1200x600 with 1 Axes>"
      ]
     },
     "metadata": {},
     "output_type": "display_data"
    }
   ],
   "source": [
    "# Calculate percentages\n",
    "percentages = (vehicle_type_counts / vehicle_type_counts.sum()) * 100\n",
    "\n",
    "# Plotting\n",
    "plt.figure(figsize=(12, 6))\n",
    "\n",
    "# Doughnut chart for Electric Vehicle Type\n",
    "plt.subplot(1, 2, 1)\n",
    "plt.pie(vehicle_type_counts, labels=vehicle_type_counts.index, autopct='%1.1f%%', startangle=90, colors=['lightblue', 'lightgreen'])\n",
    "plt.title('Electric Vehicle Type')\n",
    "plt.axis('equal')  # Equal aspect ratio ensures that pie is drawn as a circle\n",
    "\n",
    "# Add a circle at the center to transform the pie chart into a doughnut chart\n",
    "centre_circle = plt.Circle((0,0),0.70,fc='white')\n",
    "fig = plt.gcf()\n",
    "fig.gca().add_artist(centre_circle)\n",
    "\n",
    "# Add a legend with percentages\n",
    "plt.legend(labels=percentages.index, loc='upper left', bbox_to_anchor=(1, 0.9))\n",
    "\n",
    "plt.tight_layout()\n",
    "plt.show()\n"
   ]
  },
  {
   "cell_type": "code",
   "execution_count": 74,
   "metadata": {},
   "outputs": [
    {
     "data": {
      "text/plain": [
       "Text(0, 0.5, 'Count')"
      ]
     },
     "execution_count": 74,
     "metadata": {},
     "output_type": "execute_result"
    },
    {
     "data": {
      "image/png": "[encoded data removed]",
      "text/plain": [
       "<Figure size 1200x600 with 1 Axes>"
      ]
     },
     "metadata": {},
     "output_type": "display_data"
    }
   ],
   "source": [
    "# Plotting\n",
    "plt.figure(figsize=(12, 6))\n",
    "\n",
    "# Plot for Electric Vehicle Type\n",
    "plt.subplot(1, 2, 1)\n",
    "vehicle_type_counts.plot(kind='bar', color='skyblue')\n",
    "plt.title('Electric Vehicle Type')\n",
    "plt.xlabel('Vehicle Type')\n",
    "plt.ylabel('Count')"
   ]
  },
  {
   "cell_type": "code",
   "execution_count": 75,
   "metadata": {},
   "outputs": [
    {
     "data": {
      "image/png": "[encoded data removed]",
      "text/plain": [
       "<Figure size 1200x600 with 1 Axes>"
      ]
     },
     "metadata": {},
     "output_type": "display_data"
    }
   ],
   "source": [
    "# Plot for Top Electric Vehicle Makes\n",
    "plt.figure(figsize=(12, 6))  # Increase the chart size\n",
    "\n",
    "make_counts.plot(kind='bar', color='lightgreen')\n",
    "plt.title('Top 10 EV Manufacturers')\n",
    "plt.xlabel('Manufaturers')\n",
    "plt.ylabel('Count')\n",
    "plt.xticks(rotation=90)  # Rotate x-axis labels for better readability\n",
    "\n",
    "plt.tight_layout()\n",
    "plt.show()\n"
   ]
  },
  {
   "cell_type": "code",
   "execution_count": 76,
   "metadata": {},
   "outputs": [],
   "source": [
    "import seaborn as sns\n",
    "\n",
    "# Grouping data by city and electric vehicle type and counting the number of vehicles in each group\n",
    "city_vehicle_counts = clean_data.groupby(['City', 'Electric Vehicle Type']).size().unstack(fill_value=0)"
   ]
  },
  {
   "cell_type": "code",
   "execution_count": 77,
   "metadata": {},
   "outputs": [
    {
     "data": {
      "text/html": [
       "<div>\n",
       "<style scoped>\n",
       "    .dataframe tbody tr th:only-of-type {\n",
       "        vertical-align: middle;\n",
       "    }\n",
       "\n",
       "    .dataframe tbody tr th {\n",
       "        vertical-align: top;\n",
       "    }\n",
       "\n",
       "    .dataframe thead th {\n",
       "        text-align: right;\n",
       "    }\n",
       "</style>\n",
       "<table border=\"1\" class=\"dataframe\">\n",
       "  <thead>\n",
       "    <tr style=\"text-align: right;\">\n",
       "      <th>Electric Vehicle Type</th>\n",
       "      <th>Battery Electric Vehicle (BEV)</th>\n",
       "      <th>Plug-in Hybrid Electric Vehicle (PHEV)</th>\n",
       "    </tr>\n",
       "    <tr>\n",
       "      <th>City</th>\n",
       "      <th></th>\n",
       "      <th></th>\n",
       "    </tr>\n",
       "  </thead>\n",
       "  <tbody>\n",
       "    <tr>\n",
       "      <th>Aberdeen</th>\n",
       "      <td>103</td>\n",
       "      <td>53</td>\n",
       "    </tr>\n",
       "    <tr>\n",
       "      <th>Acme</th>\n",
       "      <td>5</td>\n",
       "      <td>5</td>\n",
       "    </tr>\n",
       "    <tr>\n",
       "      <th>Addy</th>\n",
       "      <td>2</td>\n",
       "      <td>0</td>\n",
       "    </tr>\n",
       "    <tr>\n",
       "      <th>Adna</th>\n",
       "      <td>1</td>\n",
       "      <td>0</td>\n",
       "    </tr>\n",
       "    <tr>\n",
       "      <th>Airway Heights</th>\n",
       "      <td>16</td>\n",
       "      <td>13</td>\n",
       "    </tr>\n",
       "    <tr>\n",
       "      <th>...</th>\n",
       "      <td>...</td>\n",
       "      <td>...</td>\n",
       "    </tr>\n",
       "    <tr>\n",
       "      <th>Yacolt</th>\n",
       "      <td>40</td>\n",
       "      <td>14</td>\n",
       "    </tr>\n",
       "    <tr>\n",
       "      <th>Yakima</th>\n",
       "      <td>442</td>\n",
       "      <td>216</td>\n",
       "    </tr>\n",
       "    <tr>\n",
       "      <th>Yarrow Point</th>\n",
       "      <td>115</td>\n",
       "      <td>30</td>\n",
       "    </tr>\n",
       "    <tr>\n",
       "      <th>Yelm</th>\n",
       "      <td>192</td>\n",
       "      <td>73</td>\n",
       "    </tr>\n",
       "    <tr>\n",
       "      <th>Zillah</th>\n",
       "      <td>31</td>\n",
       "      <td>4</td>\n",
       "    </tr>\n",
       "  </tbody>\n",
       "</table>\n",
       "<p>468 rows × 2 columns</p>\n",
       "</div>"
      ],
      "text/plain": [
       "Electric Vehicle Type  Battery Electric Vehicle (BEV)  \\\n",
       "City                                                    \n",
       "Aberdeen                                          103   \n",
       "Acme                                                5   \n",
       "Addy                                                2   \n",
       "Adna                                                1   \n",
       "Airway Heights                                     16   \n",
       "...                                               ...   \n",
       "Yacolt                                             40   \n",
       "Yakima                                            442   \n",
       "Yarrow Point                                      115   \n",
       "Yelm                                              192   \n",
       "Zillah                                             31   \n",
       "\n",
       "Electric Vehicle Type  Plug-in Hybrid Electric Vehicle (PHEV)  \n",
       "City                                                           \n",
       "Aberdeen                                                   53  \n",
       "Acme                                                        5  \n",
       "Addy                                                        0  \n",
       "Adna                                                        0  \n",
       "Airway Heights                                             13  \n",
       "...                                                       ...  \n",
       "Yacolt                                                     14  \n",
       "Yakima                                                    216  \n",
       "Yarrow Point                                               30  \n",
       "Yelm                                                       73  \n",
       "Zillah                                                      4  \n",
       "\n",
       "[468 rows x 2 columns]"
      ]
     },
     "execution_count": 77,
     "metadata": {},
     "output_type": "execute_result"
    }
   ],
   "source": [
    "city_vehicle_counts"
   ]
  },
  {
   "cell_type": "code",
   "execution_count": 78,
   "metadata": {},
   "outputs": [],
   "source": [
    "\n",
    "# Getting the cities with the highest number of vehicles for each type\n",
    "top_cities_bev = city_vehicle_counts['Battery Electric Vehicle (BEV)'].nlargest(10)\n",
    "top_cities_phev = city_vehicle_counts['Plug-in Hybrid Electric Vehicle (PHEV)'].nlargest(10)"
   ]
  },
  {
   "cell_type": "code",
   "execution_count": 79,
   "metadata": {},
   "outputs": [
    {
     "data": {
      "text/plain": [
       "City\n",
       "Seattle      23477\n",
       "Bellevue      7692\n",
       "Redmond       5616\n",
       "Bothell       5058\n",
       "Sammamish     4614\n",
       "Kirkland      4543\n",
       "Vancouver     4534\n",
       "Renton        3738\n",
       "Olympia       3248\n",
       "Tacoma        2799\n",
       "Name: Battery Electric Vehicle (BEV), dtype: int64"
      ]
     },
     "execution_count": 79,
     "metadata": {},
     "output_type": "execute_result"
    }
   ],
   "source": [
    "top_cities_bev"
   ]
  },
  {
   "cell_type": "code",
   "execution_count": 80,
   "metadata": {},
   "outputs": [
    {
     "data": {
      "text/plain": [
       "City\n",
       "Seattle      5970\n",
       "Tukwila      1831\n",
       "Vancouver    1659\n",
       "Renton       1242\n",
       "Bellevue     1238\n",
       "Olympia      1051\n",
       "Tacoma        923\n",
       "Redmond       862\n",
       "Kirkland      819\n",
       "Spokane       818\n",
       "Name: Plug-in Hybrid Electric Vehicle (PHEV), dtype: int64"
      ]
     },
     "execution_count": 80,
     "metadata": {},
     "output_type": "execute_result"
    }
   ],
   "source": [
    "top_cities_phev"
   ]
  },
  {
   "cell_type": "code",
   "execution_count": 81,
   "metadata": {},
   "outputs": [
    {
     "data": {
      "image/png": "[encoded data removed]",
      "text/plain": [
       "<Figure size 1400x600 with 2 Axes>"
      ]
     },
     "metadata": {},
     "output_type": "display_data"
    }
   ],
   "source": [
    "# Plotting\n",
    "plt.figure(figsize=(14, 6))\n",
    "\n",
    "# Plot for Battery Electric Vehicles (BEV)\n",
    "plt.subplot(1, 2, 1)\n",
    "sns.barplot(x=top_cities_bev.values, y=top_cities_bev.index, palette='Blues_r')\n",
    "plt.title('Top Cities with Highest Number of BEVs')\n",
    "plt.xlabel('Number of BEVs')\n",
    "plt.ylabel('City')\n",
    "\n",
    "# Plot for Plug-in Hybrid Electric Vehicles (PHEV)\n",
    "plt.subplot(1, 2, 2)\n",
    "sns.barplot(x=top_cities_phev.values, y=top_cities_phev.index, palette='Greens_r')\n",
    "plt.title('Top Cities with Highest Number of PHEVs')\n",
    "plt.xlabel('Number of PHEVs')\n",
    "plt.ylabel('City')\n",
    "\n",
    "plt.tight_layout()\n",
    "plt.show()"
   ]
  },
  {
   "cell_type": "code",
   "execution_count": 82,
   "metadata": {},
   "outputs": [
    {
     "data": {
      "text/plain": [
       "Clean Alternative Fuel Vehicle (CAFV) Eligibility\n",
       "Eligibility unknown as battery range has not been researched    91790\n",
       "Clean Alternative Fuel Vehicle Eligible                         66166\n",
       "Not eligible due to low battery range                           19517\n",
       "Name: count, dtype: int64"
      ]
     },
     "execution_count": 82,
     "metadata": {},
     "output_type": "execute_result"
    }
   ],
   "source": [
    "clean_data['Clean Alternative Fuel Vehicle (CAFV) Eligibility'].value_counts()"
   ]
  },
  {
   "cell_type": "code",
   "execution_count": 83,
   "metadata": {},
   "outputs": [
    {
     "data": {
      "text/plain": [
       "Index(['VIN (1-10)', 'County', 'City', 'State', 'Postal Code', 'Model Year',\n",
       "       'Make', 'Model', 'Electric Vehicle Type',\n",
       "       'Clean Alternative Fuel Vehicle (CAFV) Eligibility', 'Electric Range',\n",
       "       'Base MSRP', 'Legislative District', 'DOL Vehicle ID',\n",
       "       'Vehicle Location', 'Electric Utility', '2020 Census Tract'],\n",
       "      dtype='object')"
      ]
     },
     "execution_count": 83,
     "metadata": {},
     "output_type": "execute_result"
    }
   ],
   "source": [
    "clean_data.columns"
   ]
  },
  {
   "cell_type": "markdown",
   "metadata": {},
   "source": [
    "##### Base MSRP (Manufacturer's Suggested Retail Price)\n",
    "This column indicates the suggested retail price set by the manufacturer for the electric vehicle. It represents the initial price at which the manufacturer recommends selling the vehicle to consumers before any discounts, taxes, or additional fees. The value in this column reflects the cost of purchasing the vehicle from the manufacturer.\n",
    "\n",
    "\n",
    "##### Electric Range\n",
    "This column represents the range of the electric vehicle, which is the distance the vehicle can travel on a single charge of its battery. The unit of measurement for electric range is typically miles or kilometers. A higher value in this column indicates that the vehicle can travel a greater distance before needing to recharge its battery. Electric range is an important factor for consumers considering purchasing an electric vehicle, as it directly impacts the vehicle's usability for their daily transportation needs."
   ]
  },
  {
   "cell_type": "code",
   "execution_count": 84,
   "metadata": {},
   "outputs": [
    {
     "data": {
      "text/html": [
       "<div>\n",
       "<style scoped>\n",
       "    .dataframe tbody tr th:only-of-type {\n",
       "        vertical-align: middle;\n",
       "    }\n",
       "\n",
       "    .dataframe tbody tr th {\n",
       "        vertical-align: top;\n",
       "    }\n",
       "\n",
       "    .dataframe thead th {\n",
       "        text-align: right;\n",
       "    }\n",
       "</style>\n",
       "<table border=\"1\" class=\"dataframe\">\n",
       "  <thead>\n",
       "    <tr style=\"text-align: right;\">\n",
       "      <th></th>\n",
       "      <th>Base MSRP</th>\n",
       "      <th>Electric Range</th>\n",
       "    </tr>\n",
       "  </thead>\n",
       "  <tbody>\n",
       "    <tr>\n",
       "      <th>0</th>\n",
       "      <td>0</td>\n",
       "      <td>291</td>\n",
       "    </tr>\n",
       "    <tr>\n",
       "      <th>1</th>\n",
       "      <td>0</td>\n",
       "      <td>0</td>\n",
       "    </tr>\n",
       "    <tr>\n",
       "      <th>2</th>\n",
       "      <td>0</td>\n",
       "      <td>270</td>\n",
       "    </tr>\n",
       "    <tr>\n",
       "      <th>3</th>\n",
       "      <td>0</td>\n",
       "      <td>210</td>\n",
       "    </tr>\n",
       "    <tr>\n",
       "      <th>4</th>\n",
       "      <td>0</td>\n",
       "      <td>0</td>\n",
       "    </tr>\n",
       "  </tbody>\n",
       "</table>\n",
       "</div>"
      ],
      "text/plain": [
       "   Base MSRP  Electric Range\n",
       "0          0             291\n",
       "1          0               0\n",
       "2          0             270\n",
       "3          0             210\n",
       "4          0               0"
      ]
     },
     "execution_count": 84,
     "metadata": {},
     "output_type": "execute_result"
    }
   ],
   "source": [
    "sub_data = clean_data[['Base MSRP', 'Electric Range']]\n",
    "sub_data.head()"
   ]
  },
  {
   "cell_type": "code",
   "execution_count": 85,
   "metadata": {},
   "outputs": [
    {
     "name": "stdout",
     "output_type": "stream",
     "text": [
      "<class 'pandas.core.frame.DataFrame'>\n",
      "Index: 177473 entries, 0 to 177865\n",
      "Data columns (total 2 columns):\n",
      " #   Column          Non-Null Count   Dtype\n",
      "---  ------          --------------   -----\n",
      " 0   Base MSRP       177473 non-null  int64\n",
      " 1   Electric Range  177473 non-null  int64\n",
      "dtypes: int64(2)\n",
      "memory usage: 4.1 MB\n"
     ]
    }
   ],
   "source": [
    "sub_data.info()"
   ]
  },
  {
   "cell_type": "code",
   "execution_count": 86,
   "metadata": {},
   "outputs": [
    {
     "data": {
      "text/html": [
       "<div>\n",
       "<style scoped>\n",
       "    .dataframe tbody tr th:only-of-type {\n",
       "        vertical-align: middle;\n",
       "    }\n",
       "\n",
       "    .dataframe tbody tr th {\n",
       "        vertical-align: top;\n",
       "    }\n",
       "\n",
       "    .dataframe thead th {\n",
       "        text-align: right;\n",
       "    }\n",
       "</style>\n",
       "<table border=\"1\" class=\"dataframe\">\n",
       "  <thead>\n",
       "    <tr style=\"text-align: right;\">\n",
       "      <th></th>\n",
       "      <th>Base MSRP</th>\n",
       "      <th>Electric Range</th>\n",
       "    </tr>\n",
       "  </thead>\n",
       "  <tbody>\n",
       "    <tr>\n",
       "      <th>count</th>\n",
       "      <td>177473.000000</td>\n",
       "      <td>177473.000000</td>\n",
       "    </tr>\n",
       "    <tr>\n",
       "      <th>mean</th>\n",
       "      <td>1070.609839</td>\n",
       "      <td>58.826548</td>\n",
       "    </tr>\n",
       "    <tr>\n",
       "      <th>std</th>\n",
       "      <td>8346.920672</td>\n",
       "      <td>91.973457</td>\n",
       "    </tr>\n",
       "    <tr>\n",
       "      <th>min</th>\n",
       "      <td>0.000000</td>\n",
       "      <td>0.000000</td>\n",
       "    </tr>\n",
       "    <tr>\n",
       "      <th>25%</th>\n",
       "      <td>0.000000</td>\n",
       "      <td>0.000000</td>\n",
       "    </tr>\n",
       "    <tr>\n",
       "      <th>50%</th>\n",
       "      <td>0.000000</td>\n",
       "      <td>0.000000</td>\n",
       "    </tr>\n",
       "    <tr>\n",
       "      <th>75%</th>\n",
       "      <td>0.000000</td>\n",
       "      <td>75.000000</td>\n",
       "    </tr>\n",
       "    <tr>\n",
       "      <th>max</th>\n",
       "      <td>845000.000000</td>\n",
       "      <td>337.000000</td>\n",
       "    </tr>\n",
       "  </tbody>\n",
       "</table>\n",
       "</div>"
      ],
      "text/plain": [
       "           Base MSRP  Electric Range\n",
       "count  177473.000000   177473.000000\n",
       "mean     1070.609839       58.826548\n",
       "std      8346.920672       91.973457\n",
       "min         0.000000        0.000000\n",
       "25%         0.000000        0.000000\n",
       "50%         0.000000        0.000000\n",
       "75%         0.000000       75.000000\n",
       "max    845000.000000      337.000000"
      ]
     },
     "execution_count": 86,
     "metadata": {},
     "output_type": "execute_result"
    }
   ],
   "source": [
    "sub_data.describe()"
   ]
  },
  {
   "cell_type": "code",
   "execution_count": 87,
   "metadata": {},
   "outputs": [
    {
     "data": {
      "text/plain": [
       "174142"
      ]
     },
     "execution_count": 87,
     "metadata": {},
     "output_type": "execute_result"
    }
   ],
   "source": [
    "# Assuming df is your DataFrame\n",
    "\n",
    "(sub_data['Base MSRP'] == 0).sum()\n"
   ]
  },
  {
   "cell_type": "code",
   "execution_count": 88,
   "metadata": {},
   "outputs": [
    {
     "data": {
      "text/plain": [
       "3331"
      ]
     },
     "execution_count": 88,
     "metadata": {},
     "output_type": "execute_result"
    }
   ],
   "source": [
    "(sub_data['Base MSRP'] != 0).sum()"
   ]
  },
  {
   "cell_type": "code",
   "execution_count": 89,
   "metadata": {},
   "outputs": [
    {
     "data": {
      "text/plain": [
       "91790"
      ]
     },
     "execution_count": 89,
     "metadata": {},
     "output_type": "execute_result"
    }
   ],
   "source": [
    "(sub_data['Electric Range'] == 0).sum()"
   ]
  },
  {
   "cell_type": "code",
   "execution_count": 90,
   "metadata": {},
   "outputs": [],
   "source": [
    "sub_data = sub_data[sub_data['Base MSRP'] != 0]"
   ]
  },
  {
   "cell_type": "code",
   "execution_count": 91,
   "metadata": {},
   "outputs": [
    {
     "data": {
      "text/html": [
       "<div>\n",
       "<style scoped>\n",
       "    .dataframe tbody tr th:only-of-type {\n",
       "        vertical-align: middle;\n",
       "    }\n",
       "\n",
       "    .dataframe tbody tr th {\n",
       "        vertical-align: top;\n",
       "    }\n",
       "\n",
       "    .dataframe thead th {\n",
       "        text-align: right;\n",
       "    }\n",
       "</style>\n",
       "<table border=\"1\" class=\"dataframe\">\n",
       "  <thead>\n",
       "    <tr style=\"text-align: right;\">\n",
       "      <th></th>\n",
       "      <th>Base MSRP</th>\n",
       "      <th>Electric Range</th>\n",
       "    </tr>\n",
       "  </thead>\n",
       "  <tbody>\n",
       "    <tr>\n",
       "      <th>30</th>\n",
       "      <td>32250</td>\n",
       "      <td>93</td>\n",
       "    </tr>\n",
       "    <tr>\n",
       "      <th>71</th>\n",
       "      <td>31950</td>\n",
       "      <td>93</td>\n",
       "    </tr>\n",
       "    <tr>\n",
       "      <th>187</th>\n",
       "      <td>69900</td>\n",
       "      <td>208</td>\n",
       "    </tr>\n",
       "    <tr>\n",
       "      <th>218</th>\n",
       "      <td>69900</td>\n",
       "      <td>208</td>\n",
       "    </tr>\n",
       "    <tr>\n",
       "      <th>293</th>\n",
       "      <td>44100</td>\n",
       "      <td>14</td>\n",
       "    </tr>\n",
       "  </tbody>\n",
       "</table>\n",
       "</div>"
      ],
      "text/plain": [
       "     Base MSRP  Electric Range\n",
       "30       32250              93\n",
       "71       31950              93\n",
       "187      69900             208\n",
       "218      69900             208\n",
       "293      44100              14"
      ]
     },
     "execution_count": 91,
     "metadata": {},
     "output_type": "execute_result"
    }
   ],
   "source": [
    "sub_data.head()"
   ]
  },
  {
   "cell_type": "code",
   "execution_count": 92,
   "metadata": {},
   "outputs": [
    {
     "data": {
      "text/plain": [
       "0"
      ]
     },
     "execution_count": 92,
     "metadata": {},
     "output_type": "execute_result"
    }
   ],
   "source": [
    "(sub_data['Electric Range'] == 0).sum()"
   ]
  },
  {
   "cell_type": "code",
   "execution_count": 93,
   "metadata": {},
   "outputs": [
    {
     "data": {
      "text/html": [
       "<div>\n",
       "<style scoped>\n",
       "    .dataframe tbody tr th:only-of-type {\n",
       "        vertical-align: middle;\n",
       "    }\n",
       "\n",
       "    .dataframe tbody tr th {\n",
       "        vertical-align: top;\n",
       "    }\n",
       "\n",
       "    .dataframe thead th {\n",
       "        text-align: right;\n",
       "    }\n",
       "</style>\n",
       "<table border=\"1\" class=\"dataframe\">\n",
       "  <thead>\n",
       "    <tr style=\"text-align: right;\">\n",
       "      <th></th>\n",
       "      <th>Base MSRP</th>\n",
       "      <th>Electric Range</th>\n",
       "    </tr>\n",
       "  </thead>\n",
       "  <tbody>\n",
       "    <tr>\n",
       "      <th>count</th>\n",
       "      <td>3331.000000</td>\n",
       "      <td>3331.000000</td>\n",
       "    </tr>\n",
       "    <tr>\n",
       "      <th>mean</th>\n",
       "      <td>57041.230862</td>\n",
       "      <td>121.824077</td>\n",
       "    </tr>\n",
       "    <tr>\n",
       "      <th>std</th>\n",
       "      <td>22793.009302</td>\n",
       "      <td>89.955389</td>\n",
       "    </tr>\n",
       "    <tr>\n",
       "      <th>min</th>\n",
       "      <td>31950.000000</td>\n",
       "      <td>12.000000</td>\n",
       "    </tr>\n",
       "    <tr>\n",
       "      <th>25%</th>\n",
       "      <td>39995.000000</td>\n",
       "      <td>17.000000</td>\n",
       "    </tr>\n",
       "    <tr>\n",
       "      <th>50%</th>\n",
       "      <td>59900.000000</td>\n",
       "      <td>93.000000</td>\n",
       "    </tr>\n",
       "    <tr>\n",
       "      <th>75%</th>\n",
       "      <td>69900.000000</td>\n",
       "      <td>208.000000</td>\n",
       "    </tr>\n",
       "    <tr>\n",
       "      <th>max</th>\n",
       "      <td>845000.000000</td>\n",
       "      <td>265.000000</td>\n",
       "    </tr>\n",
       "  </tbody>\n",
       "</table>\n",
       "</div>"
      ],
      "text/plain": [
       "           Base MSRP  Electric Range\n",
       "count    3331.000000     3331.000000\n",
       "mean    57041.230862      121.824077\n",
       "std     22793.009302       89.955389\n",
       "min     31950.000000       12.000000\n",
       "25%     39995.000000       17.000000\n",
       "50%     59900.000000       93.000000\n",
       "75%     69900.000000      208.000000\n",
       "max    845000.000000      265.000000"
      ]
     },
     "execution_count": 93,
     "metadata": {},
     "output_type": "execute_result"
    }
   ],
   "source": [
    "sub_data.describe()"
   ]
  },
  {
   "cell_type": "code",
   "execution_count": 94,
   "metadata": {},
   "outputs": [
    {
     "name": "stdout",
     "output_type": "stream",
     "text": [
      "<class 'pandas.core.frame.DataFrame'>\n",
      "Index: 3331 entries, 30 to 177739\n",
      "Data columns (total 2 columns):\n",
      " #   Column          Non-Null Count  Dtype\n",
      "---  ------          --------------  -----\n",
      " 0   Base MSRP       3331 non-null   int64\n",
      " 1   Electric Range  3331 non-null   int64\n",
      "dtypes: int64(2)\n",
      "memory usage: 78.1 KB\n"
     ]
    }
   ],
   "source": [
    "sub_data.info()"
   ]
  },
  {
   "cell_type": "code",
   "execution_count": 95,
   "metadata": {},
   "outputs": [
    {
     "name": "stdout",
     "output_type": "stream",
     "text": [
      "      Scaled Base MSRP  Scaled Electric Range\n",
      "0            -1.087831              -0.320474\n",
      "1            -1.100995              -0.320474\n",
      "2             0.564239               0.958129\n",
      "3             0.564239               0.958129\n",
      "4            -0.567857              -1.198819\n",
      "...                ...                    ...\n",
      "3326         -1.100995              -0.320474\n",
      "3327         -1.087831              -0.320474\n",
      "3328          0.564239               0.958129\n",
      "3329         -0.181716              -1.165465\n",
      "3330         -0.567857              -1.198819\n",
      "\n",
      "[3331 rows x 2 columns]\n"
     ]
    }
   ],
   "source": [
    "from sklearn.preprocessing import StandardScaler\n",
    "\n",
    "# Assuming sub_data is your DataFrame\n",
    "\n",
    "# Initialize the StandardScaler\n",
    "ss = StandardScaler()\n",
    "\n",
    "# Fit and transform the data\n",
    "sub_data = ss.fit_transform(sub_data[['Base MSRP', 'Electric Range']])\n",
    "\n",
    "# Convert the scaled data back to a DataFrame\n",
    "sub_data= pd.DataFrame(sub_data, columns=['Scaled Base MSRP', 'Scaled Electric Range'])\n",
    "\n",
    "# Display the scaled DataFrame\n",
    "print(sub_data)"
   ]
  },
  {
   "cell_type": "code",
   "execution_count": 96,
   "metadata": {},
   "outputs": [
    {
     "data": {
      "image/png": "[encoded data removed]",
      "text/plain": [
       "<Figure size 800x600 with 1 Axes>"
      ]
     },
     "metadata": {},
     "output_type": "display_data"
    }
   ],
   "source": [
    "# Extracting data for scatter plot\n",
    "Base_MSRP = sub_data['Scaled Base MSRP']\n",
    "Electric_Range = sub_data['Scaled Electric Range']\n",
    "\n",
    "# Creating the scatter plot\n",
    "plt.figure(figsize=(8, 6))\n",
    "plt.scatter(Base_MSRP, Electric_Range, color='blue', alpha=0.5)\n",
    "plt.title('Relationship between Base MSRP and Electric Range')\n",
    "plt.xlabel('Base MSRP')\n",
    "plt.ylabel('Electric Range')\n",
    "plt.grid(True)\n",
    "plt.show()"
   ]
  },
  {
   "cell_type": "code",
   "execution_count": 97,
   "metadata": {},
   "outputs": [
    {
     "data": {
      "text/plain": [
       "Index(['VIN (1-10)', 'County', 'City', 'State', 'Postal Code', 'Model Year',\n",
       "       'Make', 'Model', 'Electric Vehicle Type',\n",
       "       'Clean Alternative Fuel Vehicle (CAFV) Eligibility', 'Electric Range',\n",
       "       'Base MSRP', 'Legislative District', 'DOL Vehicle ID',\n",
       "       'Vehicle Location', 'Electric Utility', '2020 Census Tract'],\n",
       "      dtype='object')"
      ]
     },
     "execution_count": 97,
     "metadata": {},
     "output_type": "execute_result"
    }
   ],
   "source": [
    "clean_data.columns"
   ]
  },
  {
   "cell_type": "code",
   "execution_count": 98,
   "metadata": {},
   "outputs": [
    {
     "data": {
      "text/html": [
       "<div>\n",
       "<style scoped>\n",
       "    .dataframe tbody tr th:only-of-type {\n",
       "        vertical-align: middle;\n",
       "    }\n",
       "\n",
       "    .dataframe tbody tr th {\n",
       "        vertical-align: top;\n",
       "    }\n",
       "\n",
       "    .dataframe thead th {\n",
       "        text-align: right;\n",
       "    }\n",
       "</style>\n",
       "<table border=\"1\" class=\"dataframe\">\n",
       "  <thead>\n",
       "    <tr style=\"text-align: right;\">\n",
       "      <th></th>\n",
       "      <th>State</th>\n",
       "      <th>City</th>\n",
       "      <th>Vehicle Location</th>\n",
       "      <th>Legislative District</th>\n",
       "      <th>Electric Utility</th>\n",
       "    </tr>\n",
       "  </thead>\n",
       "  <tbody>\n",
       "    <tr>\n",
       "      <th>0</th>\n",
       "      <td>WA</td>\n",
       "      <td>Seattle</td>\n",
       "      <td>POINT (-122.30839 47.610365)</td>\n",
       "      <td>37.0</td>\n",
       "      <td>CITY OF SEATTLE - (WA)|CITY OF TACOMA - (WA)</td>\n",
       "    </tr>\n",
       "    <tr>\n",
       "      <th>1</th>\n",
       "      <td>WA</td>\n",
       "      <td>Bothell</td>\n",
       "      <td>POINT (-122.179458 47.802589)</td>\n",
       "      <td>1.0</td>\n",
       "      <td>PUGET SOUND ENERGY INC</td>\n",
       "    </tr>\n",
       "    <tr>\n",
       "      <th>2</th>\n",
       "      <td>WA</td>\n",
       "      <td>Seattle</td>\n",
       "      <td>POINT (-122.34848 47.632405)</td>\n",
       "      <td>36.0</td>\n",
       "      <td>CITY OF SEATTLE - (WA)|CITY OF TACOMA - (WA)</td>\n",
       "    </tr>\n",
       "    <tr>\n",
       "      <th>3</th>\n",
       "      <td>WA</td>\n",
       "      <td>Issaquah</td>\n",
       "      <td>POINT (-122.03646 47.534065)</td>\n",
       "      <td>5.0</td>\n",
       "      <td>PUGET SOUND ENERGY INC||CITY OF TACOMA - (WA)</td>\n",
       "    </tr>\n",
       "    <tr>\n",
       "      <th>4</th>\n",
       "      <td>WA</td>\n",
       "      <td>Suquamish</td>\n",
       "      <td>POINT (-122.55717 47.733415)</td>\n",
       "      <td>23.0</td>\n",
       "      <td>PUGET SOUND ENERGY INC</td>\n",
       "    </tr>\n",
       "  </tbody>\n",
       "</table>\n",
       "</div>"
      ],
      "text/plain": [
       "  State       City               Vehicle Location  Legislative District  \\\n",
       "0    WA    Seattle   POINT (-122.30839 47.610365)                  37.0   \n",
       "1    WA    Bothell  POINT (-122.179458 47.802589)                   1.0   \n",
       "2    WA    Seattle   POINT (-122.34848 47.632405)                  36.0   \n",
       "3    WA   Issaquah   POINT (-122.03646 47.534065)                   5.0   \n",
       "4    WA  Suquamish   POINT (-122.55717 47.733415)                  23.0   \n",
       "\n",
       "                                Electric Utility  \n",
       "0   CITY OF SEATTLE - (WA)|CITY OF TACOMA - (WA)  \n",
       "1                         PUGET SOUND ENERGY INC  \n",
       "2   CITY OF SEATTLE - (WA)|CITY OF TACOMA - (WA)  \n",
       "3  PUGET SOUND ENERGY INC||CITY OF TACOMA - (WA)  \n",
       "4                         PUGET SOUND ENERGY INC  "
      ]
     },
     "execution_count": 98,
     "metadata": {},
     "output_type": "execute_result"
    }
   ],
   "source": [
    "data_pop = clean_data[['State', 'City', 'Vehicle Location', 'Legislative District', 'Electric Utility']]\n",
    "data_pop.head()"
   ]
  },
  {
   "cell_type": "code",
   "execution_count": 99,
   "metadata": {},
   "outputs": [
    {
     "data": {
      "text/plain": [
       "Electric Utility\n",
       "PUGET SOUND ENERGY INC||CITY OF TACOMA - (WA)                                               65990\n",
       "PUGET SOUND ENERGY INC                                                                      35882\n",
       "CITY OF SEATTLE - (WA)|CITY OF TACOMA - (WA)                                                31381\n",
       "BONNEVILLE POWER ADMINISTRATION||PUD NO 1 OF CLARK COUNTY - (WA)                            10173\n",
       "BONNEVILLE POWER ADMINISTRATION||CITY OF TACOMA - (WA)||PENINSULA LIGHT COMPANY              7828\n",
       "                                                                                            ...  \n",
       "BONNEVILLE POWER ADMINISTRATION||PUD NO 1 OF ASOTIN COUNTY||INLAND POWER & LIGHT COMPANY        2\n",
       "BONNEVILLE POWER ADMINISTRATION||PUD NO 1 OF CLALLAM COUNTY|PUD NO 1 OF JEFFERSON COUNTY        1\n",
       "BONNEVILLE POWER ADMINISTRATION||PENINSULA LIGHT COMPANY                                        1\n",
       "CITY OF SEATTLE - (WA)                                                                          1\n",
       "BONNEVILLE POWER ADMINISTRATION||PUD NO 1 OF JEFFERSON COUNTY                                   1\n",
       "Name: count, Length: 75, dtype: int64"
      ]
     },
     "execution_count": 99,
     "metadata": {},
     "output_type": "execute_result"
    }
   ],
   "source": [
    "data_pop[\"Electric Utility\"].value_counts()"
   ]
  },
  {
   "cell_type": "code",
   "execution_count": 100,
   "metadata": {},
   "outputs": [],
   "source": [
    "# Convert 'Model Year' to string if it's an integer type\n",
    "clean_data['Model Year'] = clean_data['Model Year'].astype(str)\n",
    "\n",
    "# Exclude rows where 'Model Year' is '2024'\n",
    "clean_data = clean_data[clean_data['Model Year'] != '2024']\n"
   ]
  },
  {
   "cell_type": "code",
   "execution_count": 101,
   "metadata": {},
   "outputs": [
    {
     "data": {
      "text/plain": [
       "Model Year\n",
       "1997        1\n",
       "1998        1\n",
       "1999        5\n",
       "2000        7\n",
       "2002        2\n",
       "2003        1\n",
       "2008       19\n",
       "2010       23\n",
       "2011      775\n",
       "2012     1614\n",
       "2013     4399\n",
       "2014     3496\n",
       "2015     4826\n",
       "2016     5469\n",
       "2017     8534\n",
       "2018    14286\n",
       "2019    10913\n",
       "2020    11740\n",
       "2021    19063\n",
       "2022    27708\n",
       "2023    57519\n",
       "dtype: int64"
      ]
     },
     "execution_count": 101,
     "metadata": {},
     "output_type": "execute_result"
    }
   ],
   "source": [
    "# Grouping data by model year and counting the number of EVs for each year\n",
    "ev_population_by_year = clean_data.groupby('Model Year').size()\n",
    "\n",
    "ev_population_by_year\n"
   ]
  },
  {
   "cell_type": "code",
   "execution_count": 102,
   "metadata": {},
   "outputs": [
    {
     "data": {
      "image/png": "[encoded data removed]",
      "text/plain": [
       "<Figure size 1000x600 with 1 Axes>"
      ]
     },
     "metadata": {},
     "output_type": "display_data"
    }
   ],
   "source": [
    "plt.figure(figsize=(10, 6), facecolor='#0000FF')  # Set background color to blue\n",
    "plt.plot(ev_population_by_year.index, ev_population_by_year.values, marker='o', linestyle='-')\n",
    "plt.title('EV Population Growth by Model Year')\n",
    "plt.xlabel('Model Year')\n",
    "plt.ylabel('Number of EVs')\n",
    "plt.grid(True)\n",
    "plt.xticks(ev_population_by_year.index, rotation=45)  # Rotate x-axis labels for better readability\n",
    "plt.tight_layout()\n",
    "plt.show()"
   ]
  },
  {
   "cell_type": "code",
   "execution_count": 103,
   "metadata": {},
   "outputs": [
    {
     "data": {
      "text/plain": [
       "0            POINT (-122.30839 47.610365)\n",
       "1           POINT (-122.179458 47.802589)\n",
       "2            POINT (-122.34848 47.632405)\n",
       "3            POINT (-122.03646 47.534065)\n",
       "4            POINT (-122.55717 47.733415)\n",
       "                       ...               \n",
       "177861       POINT (-122.183805 47.18062)\n",
       "177862      POINT (-123.105305 47.211085)\n",
       "177863    POINT (-119.8493873 47.2339933)\n",
       "177864       POINT (-122.00451 47.312185)\n",
       "177865        POINT (-122.38578 47.28971)\n",
       "Name: Vehicle Location, Length: 170401, dtype: object"
      ]
     },
     "execution_count": 103,
     "metadata": {},
     "output_type": "execute_result"
    }
   ],
   "source": [
    "clean_data['Vehicle Location']"
   ]
  },
  {
   "cell_type": "code",
   "execution_count": 104,
   "metadata": {},
   "outputs": [],
   "source": [
    "#pip install folium\n"
   ]
  },
  {
   "cell_type": "code",
   "execution_count": 105,
   "metadata": {},
   "outputs": [],
   "source": [
    "#pip install shapely"
   ]
  },
  {
   "cell_type": "code",
   "execution_count": 106,
   "metadata": {},
   "outputs": [],
   "source": [
    "import folium\n",
    "from shapely.geometry import Point\n",
    "\n",
    "# Function to extract latitude from the 'Vehicle Location' column\n",
    "def extract_latitude(point_str):\n",
    "    return float(point_str.split()[1][1:])\n",
    "\n",
    "# Function to extract longitude from the 'Vehicle Location' column\n",
    "def extract_longitude(point_str):\n",
    "    return float(point_str.split()[2][:-1])"
   ]
  },
  {
   "cell_type": "code",
   "execution_count": 107,
   "metadata": {},
   "outputs": [
    {
     "name": "stdout",
     "output_type": "stream",
     "text": [
      "          Latitude  Longitude\n",
      "0      -122.308390  47.610365\n",
      "1      -122.179458  47.802589\n",
      "2      -122.348480  47.632405\n",
      "3      -122.036460  47.534065\n",
      "4      -122.557170  47.733415\n",
      "...            ...        ...\n",
      "177861 -122.183805  47.180620\n",
      "177862 -123.105305  47.211085\n",
      "177863 -119.849387  47.233993\n",
      "177864 -122.004510  47.312185\n",
      "177865 -122.385780  47.289710\n",
      "\n",
      "[170401 rows x 2 columns]\n"
     ]
    }
   ],
   "source": [
    "# Apply the functions to create 'Latitude' and 'Longitude' columns\n",
    "clean_data['Latitude'] = clean_data['Vehicle Location'].apply(extract_latitude)\n",
    "clean_data['Longitude'] = clean_data['Vehicle Location'].apply(extract_longitude)\n",
    "\n",
    "# Display the DataFrame to check the new columns\n",
    "print(clean_data[['Latitude', 'Longitude']])"
   ]
  },
  {
   "cell_type": "code",
   "execution_count": 108,
   "metadata": {},
   "outputs": [],
   "source": [
    "import os\n",
    "\n",
    "# Get the current working directory\n",
    "current_directory = \"c:\\\\Users\\\\Dell\\\\Documents\"\n",
    "\n",
    "# Define the filename\n",
    "filename = 'EV_distribution_map.html'\n",
    "\n",
    "# Join the current directory with the filename\n",
    "map_location = os.path.join(current_directory, filename)\n"
   ]
  },
  {
   "cell_type": "code",
   "execution_count": 109,
   "metadata": {},
   "outputs": [
    {
     "name": "stdout",
     "output_type": "stream",
     "text": [
      "Map saved at: c:\\Users\\Dell\\Documents\\EV_distribution_map.html\n"
     ]
    }
   ],
   "source": [
    "# Drop rows with missing latitude or longitude values\n",
    "clean_data = clean_data.dropna(subset=['Latitude', 'Longitude'])\n",
    "\n",
    "# Initialize the map\n",
    "map = folium.Map(location=[clean_data['Latitude'].mean(), clean_data['Longitude'].mean()], zoom_start=5)\n",
    "\n",
    "# Add markers for each EV location\n",
    "for index, row in clean_data.iterrows():\n",
    "    folium.Marker(location=[row['Latitude'], row['Longitude']]).add_to(map)\n",
    "\n",
    "# Save the map at the specified location\n",
    "map.save(map_location)\n",
    "\n",
    "# Print the location of the saved map\n",
    "print(\"Map saved at:\", map_location)"
   ]
  },
  {
   "cell_type": "code",
   "execution_count": 110,
   "metadata": {},
   "outputs": [
    {
     "data": {
      "image/png": "[encoded data removed]",
      "text/plain": [
       "<Figure size 800x600 with 1 Axes>"
      ]
     },
     "metadata": {},
     "output_type": "display_data"
    }
   ],
   "source": [
    "# Count the number of each CAFV eligibility status\n",
    "eligibility_counts = clean_data['Clean Alternative Fuel Vehicle (CAFV) Eligibility'].value_counts()\n",
    "\n",
    "# Create labels and sizes for the pie chart\n",
    "labels = eligibility_counts.index\n",
    "sizes = eligibility_counts.values\n",
    "\n",
    "# Create the outer pie chart\n",
    "plt.figure(figsize=(8, 6))\n",
    "outer_colors = ['#FF9999', '#66B2FF', '#99FF99']  # Colors for each section\n",
    "plt.pie(sizes, labels=labels, colors=outer_colors, autopct='%1.1f%%', startangle=140, pctdistance=0.85)  # Set pctdistance to create space for the inner circle\n",
    "\n",
    "# Create the inner circle (donut hole)\n",
    "inner_circle = plt.Circle((0, 0), 0.70, fc='white')  # Adjust the size (0.70) to change the size of the hole\n",
    "plt.gca().add_artist(inner_circle)\n",
    "\n",
    "plt.title('Distribution of CAFV Eligibility Statuses')\n",
    "plt.axis('equal')  # Equal aspect ratio ensures that pie is drawn as a circle\n",
    "plt.show()\n"
   ]
  },
  {
   "cell_type": "code",
   "execution_count": null,
   "metadata": {},
   "outputs": [],
   "source": []
  }
 ],
 "metadata": {
  "kernelspec": {
   "display_name": "base",
   "language": "python",
   "name": "python3"
  },
  "language_info": {
   "codemirror_mode": {
    "name": "ipython",
    "version": 3
   },
   "file_extension": ".py",
   "mimetype": "text/x-python",
   "name": "python",
   "nbconvert_exporter": "python",
   "pygments_lexer": "ipython3",
   "version": "3.11.5"
  }
 },
 "nbformat": 4,
 "nbformat_minor": 2
}
